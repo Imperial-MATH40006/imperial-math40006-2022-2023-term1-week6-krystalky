{
 "cells": [
  {
   "cell_type": "code",
   "execution_count": 1,
   "id": "44234445",
   "metadata": {},
   "outputs": [],
   "source": [
    "int1 = 123\n",
    "int2 = 456\n",
    "int3 = 789"
   ]
  },
  {
   "cell_type": "code",
   "execution_count": 2,
   "id": "8b27b2cc",
   "metadata": {},
   "outputs": [],
   "source": [
    "float1 = float(123)\n",
    "float2 = float(456)\n",
    "float3 = float(789)"
   ]
  },
  {
   "cell_type": "code",
   "execution_count": 3,
   "id": "5cebaa93",
   "metadata": {},
   "outputs": [
    {
     "data": {
      "text/plain": [
       "True"
      ]
     },
     "execution_count": 3,
     "metadata": {},
     "output_type": "execute_result"
    }
   ],
   "source": [
    "int1 == float1"
   ]
  },
  {
   "cell_type": "code",
   "execution_count": 4,
   "id": "659c0b10",
   "metadata": {},
   "outputs": [
    {
     "data": {
      "text/plain": [
       "int"
      ]
     },
     "execution_count": 4,
     "metadata": {},
     "output_type": "execute_result"
    }
   ],
   "source": [
    "type(int1)"
   ]
  },
  {
   "cell_type": "code",
   "execution_count": 5,
   "id": "778e7f85",
   "metadata": {},
   "outputs": [
    {
     "data": {
      "text/plain": [
       "float"
      ]
     },
     "execution_count": 5,
     "metadata": {},
     "output_type": "execute_result"
    }
   ],
   "source": [
    "type(float1)"
   ]
  },
  {
   "cell_type": "code",
   "execution_count": 6,
   "id": "5393b65b",
   "metadata": {},
   "outputs": [
    {
     "data": {
      "text/plain": [
       "246.0"
      ]
     },
     "execution_count": 6,
     "metadata": {},
     "output_type": "execute_result"
    }
   ],
   "source": [
    "float1 + int1"
   ]
  },
  {
   "cell_type": "code",
   "execution_count": 7,
   "id": "1c5b1c73",
   "metadata": {},
   "outputs": [
    {
     "data": {
      "text/plain": [
       "246.0"
      ]
     },
     "execution_count": 7,
     "metadata": {},
     "output_type": "execute_result"
    }
   ],
   "source": [
    "int1 + float1"
   ]
  },
  {
   "cell_type": "code",
   "execution_count": 8,
   "id": "46875a81",
   "metadata": {},
   "outputs": [
    {
     "data": {
      "text/plain": [
       "15129.0"
      ]
     },
     "execution_count": 8,
     "metadata": {},
     "output_type": "execute_result"
    }
   ],
   "source": [
    "int1 * float1"
   ]
  },
  {
   "cell_type": "code",
   "execution_count": 9,
   "id": "cd4b24cf",
   "metadata": {},
   "outputs": [
    {
     "data": {
      "text/plain": [
       "6.414634146341464"
      ]
     },
     "execution_count": 9,
     "metadata": {},
     "output_type": "execute_result"
    }
   ],
   "source": [
    "float3 / int1"
   ]
  },
  {
   "cell_type": "code",
   "execution_count": 11,
   "id": "850c351d",
   "metadata": {},
   "outputs": [
    {
     "data": {
      "text/plain": [
       "621950086035908716574564887684926893779987503572720065491369638760246530692206100093701303968024304002379123181312732299228493113091850698107633419499605756903831414859812386775662530229225818426323881977694035510173998584353885642635206211366783929922647081509916541631736620131768385853629813107034312890742042987964948265656554548588417180406036010925668357426310867575932404790319654453598872774565804192293654714652491818300041720569098898555856187344896640959273117118979245206104976178327405963181072610224501300225540014199223663472892433698067947566713984761043004983463476349136850461029707788193552709462566349020895368721042514380045496344651982428434627594628267027911140930637543870387384882720604101085679535429477631083940232390484934092715448563826068399663014433222759456011650586236618035240568498609714106263388017909112369290330998252339926013316720159459785373607004087620145714577634759840424288805011619741297510771483554979921664733686819391302204247726314972322900117218541316499672281962637449305585782382890526875672989567912304027607997145762533722360630267465398384247202700562824290438431881323130461304280488835172405786853927526944212731483497624223466780017514813928611358152640728936813357382994264356058158867310986906232618797300832208501146271007721928517336756476331588312244097976688568624112414513321438313757646635865307373257075582759204127049257034240255465178966396489874417614755779896914881337812058292919094425161886250971007114725806846904466232520116220147468174310465198679005949586162039696858389678303237664753675709026344174054174831355692480241626118259613590055112494087312089806300408571154470827481785694437699709440884079541272215737140258738013083307726504237458110368837472872641003454166902571468605040556456762781701773882864412519000253633181611922636562683224879050984874180920491658971686859672514717247169716081145367447051408927547937659220118560492010193976896096178148722814032649596876207192585145389181552128836528467602116917058697227412678394925334988912572457129325576603809785314313298199096656672322414864617820978959469326966140253586882050909096399355399415880924676231091250192027744513722003862787974143497947656543786288821919434556713955481146255118272391911667343833892581074968912706597400154536688709"
      ]
     },
     "execution_count": 11,
     "metadata": {},
     "output_type": "execute_result"
    }
   ],
   "source": [
    "int3 ** int3"
   ]
  },
  {
   "cell_type": "code",
   "execution_count": 15,
   "id": "2a121c27",
   "metadata": {},
   "outputs": [
    {
     "name": "stdout",
     "output_type": "stream",
     "text": [
      "0.26647780353580913\n"
     ]
    }
   ],
   "source": [
    "from math import sin, cos, log, exp\n",
    "y = sin(int1/int2)\n",
    "print (y)"
   ]
  },
  {
   "cell_type": "code",
   "execution_count": 16,
   "id": "daf3fe23",
   "metadata": {},
   "outputs": [
    {
     "name": "stdout",
     "output_type": "stream",
     "text": [
      "0.26647780353580913\n"
     ]
    }
   ],
   "source": [
    "x = sin(float1/float2)\n",
    "print(x)"
   ]
  },
  {
   "cell_type": "code",
   "execution_count": 17,
   "id": "90ce5a8f",
   "metadata": {},
   "outputs": [],
   "source": [
    "complex1 = (123, 0j)"
   ]
  },
  {
   "cell_type": "code",
   "execution_count": 18,
   "id": "3e268976",
   "metadata": {},
   "outputs": [
    {
     "name": "stdout",
     "output_type": "stream",
     "text": [
      "(123, 0j)\n"
     ]
    }
   ],
   "source": [
    "print (complex1)"
   ]
  },
  {
   "cell_type": "code",
   "execution_count": 19,
   "id": "7afa3eba",
   "metadata": {},
   "outputs": [
    {
     "ename": "NameError",
     "evalue": "name 'int2j' is not defined",
     "output_type": "error",
     "traceback": [
      "\u001b[1;31m---------------------------------------------------------------------------\u001b[0m",
      "\u001b[1;31mNameError\u001b[0m                                 Traceback (most recent call last)",
      "\u001b[1;32m~\\AppData\\Local\\Temp\\ipykernel_3432\\2890673656.py\u001b[0m in \u001b[0;36m<module>\u001b[1;34m\u001b[0m\n\u001b[1;32m----> 1\u001b[1;33m \u001b[0mcomplex2\u001b[0m \u001b[1;33m=\u001b[0m \u001b[1;33m(\u001b[0m\u001b[0mint1\u001b[0m\u001b[1;33m,\u001b[0m \u001b[0mint2j\u001b[0m\u001b[1;33m)\u001b[0m\u001b[1;33m\u001b[0m\u001b[1;33m\u001b[0m\u001b[0m\n\u001b[0m\u001b[0;32m      2\u001b[0m \u001b[0mprint\u001b[0m\u001b[1;33m(\u001b[0m\u001b[0mcomplex2\u001b[0m\u001b[1;33m)\u001b[0m\u001b[1;33m\u001b[0m\u001b[1;33m\u001b[0m\u001b[0m\n",
      "\u001b[1;31mNameError\u001b[0m: name 'int2j' is not defined"
     ]
    }
   ],
   "source": [
    "complex2 = (int1, int2j)\n",
    "print(complex2)"
   ]
  },
  {
   "cell_type": "code",
   "execution_count": 20,
   "id": "6849fcbd",
   "metadata": {},
   "outputs": [],
   "source": [
    "complex1 = complex(123,0)\n",
    "complex2 = complex(456,0)\n",
    "complex3 = complex(789,0)\n",
    "complex4 = complex(int1,int2)\n",
    "complex5 = complex(float1,float2)"
   ]
  },
  {
   "cell_type": "code",
   "execution_count": 21,
   "id": "0af93071",
   "metadata": {},
   "outputs": [
    {
     "data": {
      "text/plain": [
       "True"
      ]
     },
     "execution_count": 21,
     "metadata": {},
     "output_type": "execute_result"
    }
   ],
   "source": [
    "complex1 == int1"
   ]
  },
  {
   "cell_type": "code",
   "execution_count": 22,
   "id": "1c1156b6",
   "metadata": {},
   "outputs": [
    {
     "data": {
      "text/plain": [
       "True"
      ]
     },
     "execution_count": 22,
     "metadata": {},
     "output_type": "execute_result"
    }
   ],
   "source": [
    "complex1 == float1"
   ]
  },
  {
   "cell_type": "code",
   "execution_count": 23,
   "id": "aa2aecdc",
   "metadata": {},
   "outputs": [
    {
     "data": {
      "text/plain": [
       "(1+0j)"
      ]
     },
     "execution_count": 23,
     "metadata": {},
     "output_type": "execute_result"
    }
   ],
   "source": [
    "complex1 / int1"
   ]
  },
  {
   "cell_type": "code",
   "execution_count": 24,
   "id": "33248cdb",
   "metadata": {},
   "outputs": [
    {
     "data": {
      "text/plain": [
       "(1+0j)"
      ]
     },
     "execution_count": 24,
     "metadata": {},
     "output_type": "execute_result"
    }
   ],
   "source": [
    "int1 / complex1"
   ]
  },
  {
   "cell_type": "code",
   "execution_count": 25,
   "id": "fac906aa",
   "metadata": {},
   "outputs": [
    {
     "data": {
      "text/plain": [
       "(1+0j)"
      ]
     },
     "execution_count": 25,
     "metadata": {},
     "output_type": "execute_result"
    }
   ],
   "source": [
    "float1/complex1"
   ]
  },
  {
   "cell_type": "code",
   "execution_count": 26,
   "id": "6018d4a0",
   "metadata": {},
   "outputs": [
    {
     "data": {
      "text/plain": [
       "(1+0j)"
      ]
     },
     "execution_count": 26,
     "metadata": {},
     "output_type": "execute_result"
    }
   ],
   "source": [
    "complex1/float1"
   ]
  },
  {
   "cell_type": "code",
   "execution_count": 27,
   "id": "f5558126",
   "metadata": {},
   "outputs": [
    {
     "data": {
      "text/plain": [
       "123.0"
      ]
     },
     "execution_count": 27,
     "metadata": {},
     "output_type": "execute_result"
    }
   ],
   "source": [
    "complex1.real"
   ]
  },
  {
   "cell_type": "code",
   "execution_count": 28,
   "id": "6bbb8cdf",
   "metadata": {},
   "outputs": [
    {
     "data": {
      "text/plain": [
       "123.0"
      ]
     },
     "execution_count": 28,
     "metadata": {},
     "output_type": "execute_result"
    }
   ],
   "source": [
    "complex4.real"
   ]
  },
  {
   "cell_type": "code",
   "execution_count": 29,
   "id": "c4d5f42f",
   "metadata": {},
   "outputs": [
    {
     "data": {
      "text/plain": [
       "123.0"
      ]
     },
     "execution_count": 29,
     "metadata": {},
     "output_type": "execute_result"
    }
   ],
   "source": [
    "complex5.real"
   ]
  },
  {
   "cell_type": "code",
   "execution_count": 33,
   "id": "9ef11ba3",
   "metadata": {},
   "outputs": [
    {
     "data": {
      "text/plain": [
       "0"
      ]
     },
     "execution_count": 33,
     "metadata": {},
     "output_type": "execute_result"
    }
   ],
   "source": [
    "2 * False"
   ]
  },
  {
   "cell_type": "code",
   "execution_count": 34,
   "id": "d5c6ad74",
   "metadata": {},
   "outputs": [
    {
     "data": {
      "text/plain": [
       "True"
      ]
     },
     "execution_count": 34,
     "metadata": {},
     "output_type": "execute_result"
    }
   ],
   "source": [
    "True ^ False"
   ]
  },
  {
   "cell_type": "code",
   "execution_count": 39,
   "id": "c8d25d6a",
   "metadata": {},
   "outputs": [
    {
     "data": {
      "text/plain": [
       "False"
      ]
     },
     "execution_count": 39,
     "metadata": {},
     "output_type": "execute_result"
    }
   ],
   "source": [
    "4 == 5 ^ 3 == 2"
   ]
  },
  {
   "cell_type": "code",
   "execution_count": 40,
   "id": "ec100919",
   "metadata": {},
   "outputs": [
    {
     "data": {
      "text/plain": [
       "False"
      ]
     },
     "execution_count": 40,
     "metadata": {},
     "output_type": "execute_result"
    }
   ],
   "source": [
    "False ^ False"
   ]
  },
  {
   "cell_type": "code",
   "execution_count": 41,
   "id": "14ec0407",
   "metadata": {},
   "outputs": [
    {
     "data": {
      "text/plain": [
       "False"
      ]
     },
     "execution_count": 41,
     "metadata": {},
     "output_type": "execute_result"
    }
   ],
   "source": [
    "True ^ True"
   ]
  },
  {
   "cell_type": "code",
   "execution_count": 42,
   "id": "d38a4aa2",
   "metadata": {},
   "outputs": [
    {
     "data": {
      "text/plain": [
       "12"
      ]
     },
     "execution_count": 42,
     "metadata": {},
     "output_type": "execute_result"
    }
   ],
   "source": [
    "4 ^ 8"
   ]
  },
  {
   "cell_type": "code",
   "execution_count": 43,
   "id": "98342a10",
   "metadata": {},
   "outputs": [
    {
     "data": {
      "text/plain": [
       "1"
      ]
     },
     "execution_count": 43,
     "metadata": {},
     "output_type": "execute_result"
    }
   ],
   "source": [
    "4 ^ 5"
   ]
  },
  {
   "cell_type": "code",
   "execution_count": 44,
   "id": "314ff46c",
   "metadata": {},
   "outputs": [
    {
     "data": {
      "text/plain": [
       "2"
      ]
     },
     "execution_count": 44,
     "metadata": {},
     "output_type": "execute_result"
    }
   ],
   "source": [
    "4^6"
   ]
  },
  {
   "cell_type": "code",
   "execution_count": 45,
   "id": "30c79a63",
   "metadata": {},
   "outputs": [
    {
     "data": {
      "text/plain": [
       "3"
      ]
     },
     "execution_count": 45,
     "metadata": {},
     "output_type": "execute_result"
    }
   ],
   "source": [
    "4^7"
   ]
  },
  {
   "cell_type": "code",
   "execution_count": 46,
   "id": "7898d070",
   "metadata": {},
   "outputs": [
    {
     "data": {
      "text/plain": [
       "0"
      ]
     },
     "execution_count": 46,
     "metadata": {},
     "output_type": "execute_result"
    }
   ],
   "source": [
    "4^4"
   ]
  },
  {
   "cell_type": "code",
   "execution_count": 47,
   "id": "bc22f7f9",
   "metadata": {},
   "outputs": [
    {
     "data": {
      "text/plain": [
       "12"
      ]
     },
     "execution_count": 47,
     "metadata": {},
     "output_type": "execute_result"
    }
   ],
   "source": [
    "8 ^ 4"
   ]
  },
  {
   "cell_type": "code",
   "execution_count": 48,
   "id": "39bfe72c",
   "metadata": {},
   "outputs": [
    {
     "data": {
      "text/plain": [
       "-5"
      ]
     },
     "execution_count": 48,
     "metadata": {},
     "output_type": "execute_result"
    }
   ],
   "source": [
    "4 ^ -1"
   ]
  },
  {
   "cell_type": "code",
   "execution_count": null,
   "id": "c020d645",
   "metadata": {},
   "outputs": [],
   "source": []
  }
 ],
 "metadata": {
  "kernelspec": {
   "display_name": "Python 3 (ipykernel)",
   "language": "python",
   "name": "python3"
  },
  "language_info": {
   "codemirror_mode": {
    "name": "ipython",
    "version": 3
   },
   "file_extension": ".py",
   "mimetype": "text/x-python",
   "name": "python",
   "nbconvert_exporter": "python",
   "pygments_lexer": "ipython3",
   "version": "3.9.13"
  }
 },
 "nbformat": 4,
 "nbformat_minor": 5
}
